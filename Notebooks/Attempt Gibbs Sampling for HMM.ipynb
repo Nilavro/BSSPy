{
 "cells": [
  {
   "cell_type": "markdown",
   "metadata": {},
   "source": [
    "# A Primer on Gibbs Sampling :   Hidden Markov Model a Bayesian View"
   ]
  },
  {
   "cell_type": "markdown",
   "metadata": {},
   "source": [
    "\n",
    "**Most influential algorithms in 21st century**\n",
    "\n",
    "* Metropolis Algorithm for Monte Carlo\n",
    "* Simplex Method for Linear Programming\n",
    "* Krylov Subspace Iteration Methods\n",
    "* The Decompositional Approach to Matrix Computations\n",
    "* The Fortran Optimizing Compiler\n",
    "* QR Algorithm for Computing Eigenvalues\n",
    "* Quicksort Algorithm for Sorting\n",
    "* Fast Fourier Transform\n",
    "* Integer Relation Detection\n",
    "* Fast Multipole Method"
   ]
  },
  {
   "cell_type": "markdown",
   "metadata": {},
   "source": [
    "Hidden Markov Model (HMM) is a statistical Markov model in which the system being modeled is assumed to be a Markov process with unobserved states.\n",
    "\n",
    "I chose this as an example of a Latent Space Model.\n",
    "\n",
    "By definition, a latent space model has observed data $Y$ and latent variables $X$ and parameters $\\theta$. \n",
    "\n",
    "In a Bayesian world, distribution of the data is constant, the parameters vary. Thus we want to find out the "
   ]
  },
  {
   "cell_type": "code",
   "execution_count": 22,
   "metadata": {},
   "outputs": [],
   "source": [
    "import pymc3 as pm\n",
    "import theano.tensor as tt\n",
    "import theano.tensor.slinalg as sla\n",
    "import theano.tensor.nlinalg as nla\n",
    "import matplotlib.pyplot as plt\n",
    "import numpy as np\n",
    "from collections import OrderedDict\n",
    "from hmmlearn import hmm\n",
    "import pandas as pd\n",
    "%matplotlib inline"
   ]
  },
  {
   "cell_type": "code",
   "execution_count": 23,
   "metadata": {},
   "outputs": [],
   "source": [
    "pi=OrderedDict()\n",
    "a=OrderedDict()\n",
    "mean=OrderedDict()\n",
    "cov=OrderedDict()\n",
    "model=OrderedDict()\n",
    "power=OrderedDict()\n",
    "state=OrderedDict()"
   ]
  },
  {
   "cell_type": "code",
   "execution_count": 24,
   "metadata": {},
   "outputs": [],
   "source": [
    "pi['ref']=np.array([0.5,0.5])\n",
    "a['ref']=np.array([[0.95,0.05],[0.05,0.95]])\n",
    "mean['ref']=np.array([[0],[120]])\n",
    "cov['ref']=np.tile(np.identity(1), (2, 1, 1))\n",
    "model['ref']=hmm.GaussianHMM(pi['ref'].size, \"full\", pi['ref'],a['ref'])\n",
    "model['ref'].means_ = mean['ref']\n",
    "model['ref'].covars_ = cov['ref']\n",
    "model['ref'].transmat_ = a['ref']\n",
    "model['ref'].startprob_ = pi['ref']"
   ]
  },
  {
   "cell_type": "code",
   "execution_count": 25,
   "metadata": {},
   "outputs": [
    {
     "data": {
      "text/plain": [
       "array([1., 1.])"
      ]
     },
     "execution_count": 25,
     "metadata": {},
     "output_type": "execute_result"
    }
   ],
   "source": [
    "cov['ref'].reshape(2,)"
   ]
  },
  {
   "cell_type": "code",
   "execution_count": 26,
   "metadata": {},
   "outputs": [],
   "source": [
    "import warnings\n",
    "warnings.filterwarnings('ignore')\n",
    "sample_size = 500\n",
    "power['ref'], state['ref'] = model['ref'].sample(sample_size)\n"
   ]
  },
  {
   "cell_type": "code",
   "execution_count": 27,
   "metadata": {},
   "outputs": [],
   "source": [
    "states = ('OFF','ON' )\n",
    "end_state = 'E'\n",
    "  \n",
    "start_probability = {'OFF': 0.5, 'ON': 0.5}\n",
    " \n",
    "transition_probability = {\n",
    "   'OFF' : { 'OFF': 0.95, 'ON': 0.05,'E': 0.01},\n",
    "   'ON' : { 'OFF': 0.05,'ON': 0.95, 'E': 0.01},\n",
    "   \n",
    "   }\n",
    " \n",
    "mu = { 'OFF': 0.5, 'ON': 120} \n",
    "sigma = { 'OFF': 1, 'ON': 1} \n",
    "NStates = 2\n",
    "\n",
    "\n",
    "\n",
    "\n",
    "start_prob = start_probability\n",
    "trans_prob = transition_probability\n",
    " "
   ]
  },
  {
   "cell_type": "code",
   "execution_count": 28,
   "metadata": {},
   "outputs": [
    {
     "data": {
      "text/plain": [
       "(500, 1)"
      ]
     },
     "execution_count": 28,
     "metadata": {},
     "output_type": "execute_result"
    }
   ],
   "source": [
    "\n",
    "observations = power['ref'] \n",
    "observations.shape"
   ]
  },
  {
   "cell_type": "code",
   "execution_count": 29,
   "metadata": {},
   "outputs": [
    {
     "data": {
      "text/plain": [
       "[<matplotlib.lines.Line2D at 0x7f791e8bec18>]"
      ]
     },
     "execution_count": 29,
     "metadata": {},
     "output_type": "execute_result"
    },
    {
     "data": {
      "image/png": "[encoded data removed]",
      "text/plain": [
       "<Figure size 432x288 with 1 Axes>"
      ]
     },
     "metadata": {},
     "output_type": "display_data"
    }
   ],
   "source": [
    "observations = observations +   np.random.normal(0,10, (sample_size,1))\n",
    "\n",
    "\n",
    "plt.plot(observations)"
   ]
  },
  {
   "cell_type": "code",
   "execution_count": 30,
   "metadata": {},
   "outputs": [],
   "source": [
    "def compute_emission(obs , mu , sigma):\n",
    "    step1 = -(obs - mu)**2/(2*sigma)\n",
    "    step2 = np.sqrt(2*np.pi*sigma**2)\n",
    "    return np.exp(step1)/step2\n",
    "\n",
    "\n",
    "def forward(observations, states, start_prob, trans_prob, mu , sigma, end_st):\n",
    "    # forward part of the algorithm\n",
    "    fwd = []\n",
    "    f_prev = {}\n",
    "    for i, observation_i in enumerate(observations):\n",
    "\n",
    "        f_curr = {}\n",
    "        norm = 0\n",
    "        for st in states:\n",
    "            if i == 0:\n",
    "                # base case for the forward part\n",
    "                prev_f_sum = np.array(0) if start_prob[st] ==0 else np.log(start_prob[st]) \n",
    "            else:\n",
    "                prev_f_sum = sum(f_prev[k] if trans_prob[k][st] == 0 else f_prev[k] + np.log(trans_prob[k][st]) for k in states)\n",
    "            # print(prev_f_sum    )\n",
    "            f_curr[st] = prev_f_sum if compute_emission(observation_i, mu[st] , sigma[st])==0 else np.log(compute_emission(  observation_i, mu[st] , sigma[st])) + prev_f_sum \n",
    "            norm = norm + np.exp(f_curr[st])\n",
    "        for st in states:    \n",
    "            f_curr[st] =  np.log(np.exp(f_curr[st]) / norm)\n",
    "        fwd.append( f_curr) \n",
    "        \n",
    "        f_prev = f_curr\n",
    "\n",
    "    p_fwd = sum( f_curr[k] if  trans_prob[k][end_st] == 0  else f_curr[k]  + np.log(trans_prob[k][end_st]) for k in states)\n",
    "    return np.exp(pd.DataFrame.from_dict(fwd ).astype('float64')) "
   ]
  },
  {
   "cell_type": "code",
   "execution_count": 31,
   "metadata": {},
   "outputs": [],
   "source": [
    "mu = { 'OFF': 0, 'ON': 150} \n",
    "sigma = { 'OFF': 5, 'ON': 5} \n",
    "transition_probability = {\n",
    "   'OFF' : { 'OFF': 0.7, 'ON': 0.3,'E': 0.01},\n",
    "   'ON' : { 'OFF': 0.3,'ON': 0.7, 'E': 0.01},   \n",
    "   }\n",
    "\n",
    "α = forward(observations,  states,  start_probability, transition_probability, mu,sigma,  end_state)"
   ]
  },
  {
   "cell_type": "code",
   "execution_count": 32,
   "metadata": {},
   "outputs": [],
   "source": [
    "A = np.fliplr(α.values)\n",
    "t = α.shape[0]-1\n"
   ]
  },
  {
   "cell_type": "code",
   "execution_count": 33,
   "metadata": {},
   "outputs": [],
   "source": [
    "size = 10\n",
    "\n",
    "sample = np.zeros((size, sample_size)).astype(int)\n",
    "p = np.array([[0.7,0.3],[0.3,0.7]])\n",
    "\n",
    "\n",
    "for i in range(size):\n",
    "    for t in range(α.shape[0]-1,-1,-1):\n",
    "        if t == α.shape[0] - 1:\n",
    "            sample[i,t] =   np.random.choice(2, 1, p= A[t,]).astype(int) \n",
    "        else:\n",
    "            Prob1 =  A[t][0]* p[0][sample[i,t+1]]\n",
    "            Prob2 = A[t][1]*p[1][sample[i,t+1]]\n",
    "\n",
    "            P1 = Prob1/(Prob1 + Prob2)\n",
    "            P2 = Prob2/(Prob1 + Prob2)\n",
    "            sample[i,t] =  np.random.choice(2, 1, p = np.array([P1, P2])).astype(int)\n",
    " "
   ]
  },
  {
   "cell_type": "code",
   "execution_count": 34,
   "metadata": {},
   "outputs": [
    {
     "data": {
      "text/plain": [
       "[<matplotlib.lines.Line2D at 0x7f791e9575c0>]"
      ]
     },
     "execution_count": 34,
     "metadata": {},
     "output_type": "execute_result"
    },
    {
     "data": {
      "image/png": "[encoded data removed]",
      "text/plain": [
       "<Figure size 432x288 with 1 Axes>"
      ]
     },
     "metadata": {},
     "output_type": "display_data"
    }
   ],
   "source": [
    " \n",
    "plt.plot(  np.mod(state['ref'] ,2), c = 'r')\n",
    " \n",
    "samples = np.round(sample.mean(axis = 0)).astype(int)\n",
    "plt.plot(samples)"
   ]
  },
  {
   "cell_type": "markdown",
   "metadata": {},
   "source": [
    "# μ Sampling"
   ]
  },
  {
   "cell_type": "markdown",
   "metadata": {},
   "source": [
    "\\begin{align}\n",
    "μ_i   &=  \\mathbb N (  ξ , κ^{-1}) \\\\\n",
    "\\xi &= \\frac{min (y_k) + max (y_k)}{2} \\\\\n",
    "\\kappa &= \\frac{1}{R^2}, R =max (y_k) -  min (y_k) \\\\\n",
    "P(\\mu_i | X, Y, \\sigma)  &= \\mathbb N ( \\frac{\\sum_{i}S_i + \\kappa\\xi\\sigma^2}{\\sum_{i}n_i + \\kappa\\sigma^2} , ) \n",
    "\\end{align}"
   ]
  },
  {
   "cell_type": "code",
   "execution_count": 35,
   "metadata": {},
   "outputs": [
    {
     "data": {
      "text/plain": [
       "{'OFF': 0.013461495896134512, 'ON': 119.98053821933861}"
      ]
     },
     "execution_count": 35,
     "metadata": {},
     "output_type": "execute_result"
    }
   ],
   "source": [
    "μ = np.zeros(NStates,)\n",
    "ξ = (np.max(observations) + np.min(observations))/2\n",
    "R = (np.max(observations) - np.min(observations))\n",
    "κ = 1/R**2\n",
    "\n",
    "σ = np.array([0.5, 1])\n",
    "\n",
    "for i in range(NStates):\n",
    "    \n",
    "    S = np.sum(power['ref'][samples == i])\n",
    "    n = np.sum([samples == i])\n",
    "    \n",
    "    mean = (S + κ * ξ * σ[i]**2) / (n + κ * σ[i]**2)\n",
    "    sd = σ[i]**2/  (n + κ * σ[i]**2)\n",
    "    μ[i] = np.random.normal(loc=mean, scale=sd, size = 1) \n",
    "mu['OFF'] = μ[0]\n",
    "mu['ON'] = μ[1]\n",
    "\n",
    "mu"
   ]
  },
  {
   "cell_type": "markdown",
   "metadata": {},
   "source": [
    "# Sampling σ"
   ]
  },
  {
   "cell_type": "code",
   "execution_count": 36,
   "metadata": {},
   "outputs": [
    {
     "data": {
      "text/plain": [
       "1.6868242978101088e-05"
      ]
     },
     "execution_count": 36,
     "metadata": {},
     "output_type": "execute_result"
    }
   ],
   "source": [
    "β = np.random.gamma(0.2 , 10/R**2)\n",
    "β"
   ]
  },
  {
   "cell_type": "code",
   "execution_count": 37,
   "metadata": {},
   "outputs": [],
   "source": [
    "n = observations.reshape(-1,1).shape[0]\n",
    "\n",
    "\n",
    "α = 2\n",
    "\n",
    "# np.sum(observations - μ[samples])\n",
    "\n",
    "τ = np.random.gamma(α + n/2, β + 1/2 * np.sum((observations.reshape(-1,1) -  μ[samples].reshape(-1,1))**2))\n",
    "\n",
    "σ = np.sqrt(1/τ)"
   ]
  },
  {
   "cell_type": "markdown",
   "metadata": {},
   "source": [
    "# Sampling β"
   ]
  },
  {
   "cell_type": "code",
   "execution_count": 38,
   "metadata": {},
   "outputs": [
    {
     "data": {
      "text/plain": [
       "8591079.55989715"
      ]
     },
     "execution_count": 38,
     "metadata": {},
     "output_type": "execute_result"
    }
   ],
   "source": [
    "β = np.random.gamma(0.2 + α, 10/R**2 + τ)\n",
    "\n",
    "β"
   ]
  },
  {
   "cell_type": "markdown",
   "metadata": {},
   "source": [
    "# Sampling Transition Probabilities "
   ]
  },
  {
   "cell_type": "code",
   "execution_count": 58,
   "metadata": {},
   "outputs": [
    {
     "data": {
      "text/plain": [
       "array([[0.95418958, 0.04581042],\n",
       "       [0.07150116, 0.92849884]])"
      ]
     },
     "execution_count": 58,
     "metadata": {},
     "output_type": "execute_result"
    }
   ],
   "source": [
    "def count(samples):\n",
    "    count_mat = np.zeros((2,2))\n",
    "    for i in range(0,sample_size-1):\n",
    " \n",
    "            \n",
    "            count_mat[samples[i]][samples[i+1]] += 1\n",
    "                \n",
    "    return count_mat\n",
    "\n",
    "count_mat = count(samples)\n",
    "            \n",
    "transition = np.zeros((2,2))\n",
    "transition[0] = np.random.dirichlet((count_mat[0][0] + 1.0, count_mat[0][1]  + 1.0), 1).reshape(2,)\n",
    "transition[1] = np.random.dirichlet((count_mat[1][0] + 1.0, count_mat[1][1]  + 1.0), 1).reshape(2,)\n",
    "#start"
   ]
  },
  {
   "cell_type": "markdown",
   "metadata": {},
   "source": [
    "# Sampling Start Probabilities"
   ]
  },
  {
   "cell_type": "code",
   "execution_count": 61,
   "metadata": {},
   "outputs": [],
   "source": [
    "start = np.random.dirichlet( ( (samples[0] == 0) + 1 , (samples[0] == 1) + 1) , 1).reshape(2,)\n",
    "\n",
    "\n",
    "start_probability['OFF'] = start[0]\n",
    "start_probability['ON'] = start[1]"
   ]
  },
  {
   "cell_type": "code",
   "execution_count": 62,
   "metadata": {},
   "outputs": [
    {
     "data": {
      "text/plain": [
       "array([0.20347367, 0.79652633])"
      ]
     },
     "execution_count": 62,
     "metadata": {},
     "output_type": "execute_result"
    }
   ],
   "source": [
    "start"
   ]
  },
  {
   "cell_type": "markdown",
   "metadata": {},
   "source": [
    "# Finish the code to iterate the process"
   ]
  }
 ],
 "metadata": {
  "kernelspec": {
   "display_name": "Python 3",
   "language": "python",
   "name": "python3"
  },
  "language_info": {
   "codemirror_mode": {
    "name": "ipython",
    "version": 3
   },
   "file_extension": ".py",
   "mimetype": "text/x-python",
   "name": "python",
   "nbconvert_exporter": "python",
   "pygments_lexer": "ipython3",
   "version": "3.5.5"
  }
 },
 "nbformat": 4,
 "nbformat_minor": 2
}
